{
 "cells": [
  {
   "cell_type": "code",
   "execution_count": 7,
   "id": "e02c4ee0",
   "metadata": {},
   "outputs": [
    {
     "name": "stdout",
     "output_type": "stream",
     "text": [
      "2.3\n",
      "79.0\n"
     ]
    }
   ],
   "source": [
    "import numpy as np\n",
    "\n",
    "def x_y_diff(x,mx,y,my):\n",
    "    d = 0\n",
    "    for i in range(len(x)):\n",
    "        d+=(x[i]-mx)*(y[i]-my)\n",
    "    return d\n",
    "\n",
    "X = [2,4,6,8]\n",
    "Y = [81,93,91,97]\n",
    "\n",
    "mx = np.mean(X)\n",
    "my = np.mean(Y)\n",
    "\n",
    "divisor = sum([(i - mx)**2 for i in X])\n",
    "dividend = x_y_diff(X,mx,Y,my)\n",
    "\n",
    "a = dividend / divisor\n",
    "print(a) #a의 절편은 2.3\n",
    "\n",
    "b = my - (a*mx)\n",
    "print(b)"
   ]
  },
  {
   "cell_type": "code",
   "execution_count": null,
   "id": "9af6681b",
   "metadata": {},
   "outputs": [],
   "source": []
  }
 ],
 "metadata": {
  "kernelspec": {
   "display_name": "Python 3 (ipykernel)",
   "language": "python",
   "name": "python3"
  },
  "language_info": {
   "codemirror_mode": {
    "name": "ipython",
    "version": 3
   },
   "file_extension": ".py",
   "mimetype": "text/x-python",
   "name": "python",
   "nbconvert_exporter": "python",
   "pygments_lexer": "ipython3",
   "version": "3.11.5"
  }
 },
 "nbformat": 4,
 "nbformat_minor": 5
}
