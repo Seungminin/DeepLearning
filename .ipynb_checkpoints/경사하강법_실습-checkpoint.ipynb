{
 "cells": [
  {
   "cell_type": "markdown",
   "id": "f22a5037",
   "metadata": {},
   "source": [
    "#경사하강법 실습"
   ]
  },
  {
   "cell_type": "code",
   "execution_count": 1,
   "id": "77c87705",
   "metadata": {},
   "outputs": [
    {
     "ename": "SyntaxError",
     "evalue": "cannot assign to expression here. Maybe you meant '==' instead of '='? (1126784450.py, line 41)",
     "output_type": "error",
     "traceback": [
      "\u001b[1;36m  Cell \u001b[1;32mIn[1], line 41\u001b[1;36m\u001b[0m\n\u001b[1;33m    if i % 100 = 0: #100번 epochs일 때마다 알려주기\u001b[0m\n\u001b[1;37m       ^\u001b[0m\n\u001b[1;31mSyntaxError\u001b[0m\u001b[1;31m:\u001b[0m cannot assign to expression here. Maybe you meant '==' instead of '='?\n"
     ]
    }
   ],
   "source": [
    "import numpy as np\n",
    "import pandas as pd\n",
    "import matplotlib.pyplot as plt\n",
    "\n",
    "data = [[2,81],[4,93],[6,91],[8,97]]\n",
    "x = [i[0] for i in data]\n",
    "y = [i[1] for i in data]\n",
    "\n",
    "#그래프로 나타내기\n",
    "plt.figure(figsize = (8,5))\n",
    "plt.scatter(x,y)\n",
    "plt.show\n",
    "\n",
    "#리스트로 되어 있는 x와 y의 값을 넘파이 배열로 바꾸기 (인덱스를 주어 하나씩 불러와 계산이 가능하게 하기 위함)\n",
    "x_data = np.array(x)\n",
    "y_data = np.array(y)\n",
    "\n",
    "#기울기 a와 절편 b 초기화\n",
    "a = 0\n",
    "b = 0\n",
    "\n",
    "#학습률 정하기 -> 수정해나갈 오차의 범위를 정해주는 것\n",
    "lr = 0.05 \n",
    "\n",
    "#몇 번 반복될 지 설정(이차그래프에서 최소의 기울기 m값을 찾기 위해 몇번의 반복?)\n",
    "epochs = 2001 \n",
    "\n",
    "#경사하강법 시작\n",
    "for i in range(epochs):\n",
    "    y_pred = a*x_data +b #y에 대한 예측값 식 세우기\n",
    "    error = y_data - y_pred #오차값 구하기 (실제값 - 예측값)\n",
    "    \n",
    "    #오차 함수를 a로 미분한 결과\n",
    "    a_diff = -(1/len(x_data))*sum(x_data*(error))\n",
    "    #오차 함수를 b로 미분한 결과\n",
    "    b_diff = -(1/len(y_data))*sum(y_data-y_pred)\n",
    "    \n",
    "    a = a - lr * a_diff #학습률을 곱해 기존의 a값 업데이트 (미분한 값이 음수이면 a를 0보다 큰쪽으로 이동)\n",
    "    b = b - lr * b_diff\n",
    "    \n",
    "    if i % 100 == 0: #100번 epochs일 때마다 알려주기\n",
    "        print(\"epochs = %.f, 기울기 = %.04f, 절편 = %.04f\" %(i,a,b))\n",
    "\n",
    "y_pred = a*x_data +b\n",
    "plt.scatter(x,y)\n",
    "plt.plot([min(x_data),max(x_data)],[min(y_pred), max(y_pred)])\n",
    "plt.show()"
   ]
  },
  {
   "cell_type": "code",
   "execution_count": null,
   "id": "75ef28d4",
   "metadata": {},
   "outputs": [],
   "source": []
  }
 ],
 "metadata": {
  "kernelspec": {
   "display_name": "Python 3 (ipykernel)",
   "language": "python",
   "name": "python3"
  },
  "language_info": {
   "codemirror_mode": {
    "name": "ipython",
    "version": 3
   },
   "file_extension": ".py",
   "mimetype": "text/x-python",
   "name": "python",
   "nbconvert_exporter": "python",
   "pygments_lexer": "ipython3",
   "version": "3.11.5"
  }
 },
 "nbformat": 4,
 "nbformat_minor": 5
}
