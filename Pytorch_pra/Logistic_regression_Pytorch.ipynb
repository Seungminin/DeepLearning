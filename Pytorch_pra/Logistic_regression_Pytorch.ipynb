{
 "cells": [
  {
   "cell_type": "code",
   "execution_count": 11,
   "metadata": {},
   "outputs": [],
   "source": [
    "import torch\n",
    "import torch.nn as nn\n",
    "import torch.nn.functional as F\n",
    "import torch.optim as optim\n",
    "\n",
    "from torch.utils.data import Dataset, DataLoader"
   ]
  },
  {
   "cell_type": "code",
   "execution_count": 2,
   "metadata": {},
   "outputs": [
    {
     "data": {
      "text/plain": [
       "<torch._C.Generator at 0x186bc6b8ef0>"
      ]
     },
     "execution_count": 2,
     "metadata": {},
     "output_type": "execute_result"
    }
   ],
   "source": [
    "torch.manual_seed(1)"
   ]
  },
  {
   "cell_type": "code",
   "execution_count": 8,
   "metadata": {},
   "outputs": [],
   "source": [
    "class CustomDataset(Dataset):\n",
    "    def __init__(self):\n",
    "        self.x_data = [[1, 2], \n",
    "                       [2, 3], \n",
    "                       [3, 1], \n",
    "                       [4, 3], \n",
    "                       [5, 3], \n",
    "                       [6, 2]]\n",
    "        \n",
    "        self.y_data = [[0], [0], [0], [1], [1], [1]]\n",
    "\n",
    "    def __len__(self):\n",
    "        return len(self.x_data)\n",
    "    \n",
    "    def __getitem__(self, index):\n",
    "        x_train = torch.FloatTensor(self.x_data[index])\n",
    "        y_train = torch.FloatTensor(self.y_data[index])\n",
    "\n",
    "        return x_train, y_train\n"
   ]
  },
  {
   "cell_type": "code",
   "execution_count": 12,
   "metadata": {},
   "outputs": [],
   "source": [
    "class LogisticRegression(nn.Module):\n",
    "    def __init__(self):\n",
    "        super(LogisticRegression, self).__init__()\n",
    "        self.linear = nn.Linear(2, 1)\n",
    "        self.sigmoid = nn.Sigmoid()\n",
    "    \n",
    "    def forward(self, x):\n",
    "        x = self.linear(x)\n",
    "        x = self.sigmoid(x)\n",
    "        return x\n"
   ]
  },
  {
   "cell_type": "code",
   "execution_count": 14,
   "metadata": {},
   "outputs": [
    {
     "name": "stdout",
     "output_type": "stream",
     "text": [
      "6\n",
      "Index : 1 /Sample : (tensor([1., 2.]), tensor([0.]))\n",
      "Index : 2 /Sample : (tensor([2., 3.]), tensor([0.]))\n",
      "Index : 3 /Sample : (tensor([3., 1.]), tensor([0.]))\n",
      "Index : 4 /Sample : (tensor([4., 3.]), tensor([1.]))\n",
      "Index : 5 /Sample : (tensor([5., 3.]), tensor([1.]))\n",
      "Index : 6 /Sample : (tensor([6., 2.]), tensor([1.]))\n"
     ]
    }
   ],
   "source": [
    "dataset = CustomDataset()\n",
    "dataloader = DataLoader(dataset, batch_size=1, shuffle=True)\n",
    "\n",
    "print(len(dataset))\n",
    "\n",
    "for idx, samples in enumerate(dataset):\n",
    "    print(\"Index : {} /Sample : {}\".format(idx+1, samples))\n",
    "    \n",
    "model = LogisticRegression()\n",
    "\n",
    "optimizer = optim.SGD(model.parameters(), lr=1)\n"
   ]
  },
  {
   "cell_type": "code",
   "execution_count": 16,
   "metadata": {},
   "outputs": [
    {
     "name": "stdout",
     "output_type": "stream",
     "text": [
      "Epoch    0/100 Cost: 0.291346 Accuracy 100.00%\n",
      "Epoch    0/100 Cost: 0.000080 Accuracy 100.00%\n",
      "Epoch    0/100 Cost: 0.000504 Accuracy 100.00%\n",
      "Epoch    0/100 Cost: 3.923525 Accuracy 0.00%\n",
      "Epoch    0/100 Cost: 0.001345 Accuracy 100.00%\n",
      "Epoch    0/100 Cost: 0.023497 Accuracy 100.00%\n",
      "Epoch   10/100 Cost: 4.169055 Accuracy 0.00%\n",
      "Epoch   10/100 Cost: 10.327231 Accuracy 0.00%\n",
      "Epoch   10/100 Cost: 0.583346 Accuracy 100.00%\n",
      "Epoch   10/100 Cost: 2.094786 Accuracy 0.00%\n",
      "Epoch   10/100 Cost: 2.321112 Accuracy 0.00%\n",
      "Epoch   10/100 Cost: 0.000000 Accuracy 100.00%\n",
      "Epoch   20/100 Cost: 0.000031 Accuracy 100.00%\n",
      "Epoch   20/100 Cost: 0.000000 Accuracy 100.00%\n",
      "Epoch   20/100 Cost: 0.321043 Accuracy 100.00%\n",
      "Epoch   20/100 Cost: 0.000104 Accuracy 100.00%\n",
      "Epoch   20/100 Cost: 0.018242 Accuracy 100.00%\n",
      "Epoch   20/100 Cost: 4.428900 Accuracy 0.00%\n",
      "Epoch   30/100 Cost: 0.000000 Accuracy 100.00%\n",
      "Epoch   30/100 Cost: 0.000000 Accuracy 100.00%\n",
      "Epoch   30/100 Cost: 0.000419 Accuracy 100.00%\n",
      "Epoch   30/100 Cost: 8.381524 Accuracy 0.00%\n",
      "Epoch   30/100 Cost: 0.000105 Accuracy 100.00%\n",
      "Epoch   30/100 Cost: 0.001351 Accuracy 100.00%\n",
      "Epoch   40/100 Cost: 0.006310 Accuracy 100.00%\n",
      "Epoch   40/100 Cost: 0.015766 Accuracy 100.00%\n",
      "Epoch   40/100 Cost: 0.000003 Accuracy 100.00%\n",
      "Epoch   40/100 Cost: 0.052643 Accuracy 100.00%\n",
      "Epoch   40/100 Cost: 0.000013 Accuracy 100.00%\n",
      "Epoch   40/100 Cost: 0.000253 Accuracy 100.00%\n",
      "Epoch   50/100 Cost: 0.021478 Accuracy 100.00%\n",
      "Epoch   50/100 Cost: 0.000020 Accuracy 100.00%\n",
      "Epoch   50/100 Cost: 0.000007 Accuracy 100.00%\n",
      "Epoch   50/100 Cost: 0.033846 Accuracy 100.00%\n",
      "Epoch   50/100 Cost: 0.000252 Accuracy 100.00%\n",
      "Epoch   50/100 Cost: 0.006586 Accuracy 100.00%\n",
      "Epoch   60/100 Cost: 0.019108 Accuracy 100.00%\n",
      "Epoch   60/100 Cost: 0.000029 Accuracy 100.00%\n",
      "Epoch   60/100 Cost: 0.029888 Accuracy 100.00%\n",
      "Epoch   60/100 Cost: 0.000021 Accuracy 100.00%\n",
      "Epoch   60/100 Cost: 0.000168 Accuracy 100.00%\n",
      "Epoch   60/100 Cost: 0.010039 Accuracy 100.00%\n",
      "Epoch   70/100 Cost: 0.009376 Accuracy 100.00%\n",
      "Epoch   70/100 Cost: 0.000258 Accuracy 100.00%\n",
      "Epoch   70/100 Cost: 0.000020 Accuracy 100.00%\n",
      "Epoch   70/100 Cost: 0.000018 Accuracy 100.00%\n",
      "Epoch   70/100 Cost: 0.017940 Accuracy 100.00%\n",
      "Epoch   70/100 Cost: 0.026091 Accuracy 100.00%\n",
      "Epoch   80/100 Cost: 0.000013 Accuracy 100.00%\n",
      "Epoch   80/100 Cost: 0.000022 Accuracy 100.00%\n",
      "Epoch   80/100 Cost: 0.021032 Accuracy 100.00%\n",
      "Epoch   80/100 Cost: 0.000228 Accuracy 100.00%\n",
      "Epoch   80/100 Cost: 0.010013 Accuracy 100.00%\n",
      "Epoch   80/100 Cost: 0.020367 Accuracy 100.00%\n",
      "Epoch   90/100 Cost: 0.000022 Accuracy 100.00%\n",
      "Epoch   90/100 Cost: 0.000157 Accuracy 100.00%\n",
      "Epoch   90/100 Cost: 0.019184 Accuracy 100.00%\n",
      "Epoch   90/100 Cost: 0.016821 Accuracy 100.00%\n",
      "Epoch   90/100 Cost: 0.013852 Accuracy 100.00%\n",
      "Epoch   90/100 Cost: 0.000016 Accuracy 100.00%\n",
      "Epoch  100/100 Cost: 0.015945 Accuracy 100.00%\n",
      "Epoch  100/100 Cost: 0.009577 Accuracy 100.00%\n",
      "Epoch  100/100 Cost: 0.022406 Accuracy 100.00%\n",
      "Epoch  100/100 Cost: 0.000161 Accuracy 100.00%\n",
      "Epoch  100/100 Cost: 0.000021 Accuracy 100.00%\n",
      "Epoch  100/100 Cost: 0.000015 Accuracy 100.00%\n"
     ]
    }
   ],
   "source": [
    "nb_epochs = 100\n",
    "for epoch in range(nb_epochs + 1):\n",
    "    for batch_idx, samples in enumerate(dataloader):\n",
    "        x_train, y_train = samples\n",
    "        # H(x) 계산\n",
    "        hypothesis = model(x_train)\n",
    "\n",
    "        # cost 계산\n",
    "        cost = F.binary_cross_entropy(hypothesis, y_train)\n",
    "\n",
    "        # cost로 H(x) 개선\n",
    "        optimizer.zero_grad()\n",
    "        cost.backward()\n",
    "        optimizer.step()\n",
    "\n",
    "        # 20번마다 로그 출력\n",
    "        if epoch % 10 == 0:\n",
    "            prediction = hypothesis >= torch.FloatTensor([0.5]) # 예측값이 0.5를 넘으면 True로 간주\n",
    "            correct_prediction = prediction.float() == y_train # 실제값과 일치하는 경우만 True로 간주\n",
    "            accuracy = correct_prediction.sum().item() / len(correct_prediction) # 정확도를 계산\n",
    "            print('Epoch {:4d}/{} Cost: {:.6f} Accuracy {:2.2f}%'.format( # 각 에포크마다 정확도를 출력\n",
    "                epoch, nb_epochs, cost.item(), accuracy * 100,\n",
    "            ))"
   ]
  },
  {
   "cell_type": "code",
   "execution_count": 17,
   "metadata": {},
   "outputs": [
    {
     "name": "stdout",
     "output_type": "stream",
     "text": [
      "[Parameter containing:\n",
      "tensor([[4.3716, 2.0195]], requires_grad=True), Parameter containing:\n",
      "tensor([-19.1765], requires_grad=True)]\n"
     ]
    }
   ],
   "source": [
    "print(list(model.parameters()))"
   ]
  }
 ],
 "metadata": {
  "kernelspec": {
   "display_name": "Python 3",
   "language": "python",
   "name": "python3"
  },
  "language_info": {
   "codemirror_mode": {
    "name": "ipython",
    "version": 3
   },
   "file_extension": ".py",
   "mimetype": "text/x-python",
   "name": "python",
   "nbconvert_exporter": "python",
   "pygments_lexer": "ipython3",
   "version": "3.12.1"
  }
 },
 "nbformat": 4,
 "nbformat_minor": 2
}
