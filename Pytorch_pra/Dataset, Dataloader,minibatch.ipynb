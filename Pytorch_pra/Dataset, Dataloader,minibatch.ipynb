{
 "cells": [
  {
   "cell_type": "code",
   "execution_count": 3,
   "metadata": {},
   "outputs": [],
   "source": [
    "import torch\n",
    "import torch.nn as nn\n",
    "import torch.nn.functional as F\n",
    "\n",
    "from torch.utils.data import TensorDataset\n",
    "from torch.utils.data import DataLoader"
   ]
  },
  {
   "cell_type": "code",
   "execution_count": 4,
   "metadata": {},
   "outputs": [],
   "source": [
    "x_train  =  torch.FloatTensor([[73,  80,  75], \n",
    "                               [93,  88,  93], \n",
    "                               [89,  91,  90], \n",
    "                               [96,  98,  100],   \n",
    "                               [73,  66,  70]])  \n",
    "y_train  =  torch.FloatTensor([[152],  [185],  [180],  [196],  [142]])"
   ]
  },
  {
   "cell_type": "code",
   "execution_count": 5,
   "metadata": {},
   "outputs": [],
   "source": [
    "dataset = TensorDataset(x_train,y_train)\n",
    "\n",
    "dataloader = DataLoader(dataset, batch_size= 2, shuffle=True)"
   ]
  },
  {
   "cell_type": "code",
   "execution_count": 7,
   "metadata": {},
   "outputs": [],
   "source": [
    "class MultivariateLinearRegression(nn.Module):\n",
    "    def __init__(self):\n",
    "        super().__init__()\n",
    "        self.linear = nn.Linear(3,1)\n",
    "\n",
    "    def forward(self, x):\n",
    "        return self.linear(x) "
   ]
  },
  {
   "cell_type": "code",
   "execution_count": 11,
   "metadata": {},
   "outputs": [],
   "source": [
    "model = MultivariateLinearRegression()\n",
    "\n",
    "optimizer = torch.optim.SGD(model.parameters(), lr = 1e-5)"
   ]
  },
  {
   "cell_type": "code",
   "execution_count": 13,
   "metadata": {},
   "outputs": [
    {
     "name": "stdout",
     "output_type": "stream",
     "text": [
      "Epoch    0/20 Batch 1/3 Cost: 0.874210\n",
      "Epoch    0/20 Batch 2/3 Cost: 2.738325\n",
      "Epoch    0/20 Batch 3/3 Cost: 0.019917\n",
      "Epoch    1/20 Batch 1/3 Cost: 1.429121\n",
      "Epoch    1/20 Batch 2/3 Cost: 0.540188\n",
      "Epoch    1/20 Batch 3/3 Cost: 1.658104\n",
      "Epoch    2/20 Batch 1/3 Cost: 0.329483\n",
      "Epoch    2/20 Batch 2/3 Cost: 1.703583\n",
      "Epoch    2/20 Batch 3/3 Cost: 0.912320\n",
      "Epoch    3/20 Batch 1/3 Cost: 0.280699\n",
      "Epoch    3/20 Batch 2/3 Cost: 2.644706\n",
      "Epoch    3/20 Batch 3/3 Cost: 0.958508\n",
      "Epoch    4/20 Batch 1/3 Cost: 0.291065\n",
      "Epoch    4/20 Batch 2/3 Cost: 1.040153\n",
      "Epoch    4/20 Batch 3/3 Cost: 2.525129\n",
      "Epoch    5/20 Batch 1/3 Cost: 0.311442\n",
      "Epoch    5/20 Batch 2/3 Cost: 1.813078\n",
      "Epoch    5/20 Batch 3/3 Cost: 2.712368\n",
      "Epoch    6/20 Batch 1/3 Cost: 0.788242\n",
      "Epoch    6/20 Batch 2/3 Cost: 0.924664\n",
      "Epoch    6/20 Batch 3/3 Cost: 2.554749\n",
      "Epoch    7/20 Batch 1/3 Cost: 0.309670\n",
      "Epoch    7/20 Batch 2/3 Cost: 1.313679\n",
      "Epoch    7/20 Batch 3/3 Cost: 1.984798\n",
      "Epoch    8/20 Batch 1/3 Cost: 1.545601\n",
      "Epoch    8/20 Batch 2/3 Cost: 0.725957\n",
      "Epoch    8/20 Batch 3/3 Cost: 2.046232\n",
      "Epoch    9/20 Batch 1/3 Cost: 1.623227\n",
      "Epoch    9/20 Batch 2/3 Cost: 0.717485\n",
      "Epoch    9/20 Batch 3/3 Cost: 0.108962\n",
      "Epoch   10/20 Batch 1/3 Cost: 1.331622\n",
      "Epoch   10/20 Batch 2/3 Cost: 0.666032\n",
      "Epoch   10/20 Batch 3/3 Cost: 1.505953\n",
      "Epoch   11/20 Batch 1/3 Cost: 0.707411\n",
      "Epoch   11/20 Batch 2/3 Cost: 1.573698\n",
      "Epoch   11/20 Batch 3/3 Cost: 0.935463\n",
      "Epoch   12/20 Batch 1/3 Cost: 0.911491\n",
      "Epoch   12/20 Batch 2/3 Cost: 0.982955\n",
      "Epoch   12/20 Batch 3/3 Cost: 2.132288\n",
      "Epoch   13/20 Batch 1/3 Cost: 0.309983\n",
      "Epoch   13/20 Batch 2/3 Cost: 1.985337\n",
      "Epoch   13/20 Batch 3/3 Cost: 2.609327\n",
      "Epoch   14/20 Batch 1/3 Cost: 0.792375\n",
      "Epoch   14/20 Batch 2/3 Cost: 1.621597\n",
      "Epoch   14/20 Batch 3/3 Cost: 0.117264\n",
      "Epoch   15/20 Batch 1/3 Cost: 1.565768\n",
      "Epoch   15/20 Batch 2/3 Cost: 0.471260\n",
      "Epoch   15/20 Batch 3/3 Cost: 0.867073\n",
      "Epoch   16/20 Batch 1/3 Cost: 1.007632\n",
      "Epoch   16/20 Batch 2/3 Cost: 0.173731\n",
      "Epoch   16/20 Batch 3/3 Cost: 2.853272\n",
      "Epoch   17/20 Batch 1/3 Cost: 1.276236\n",
      "Epoch   17/20 Batch 2/3 Cost: 0.994092\n",
      "Epoch   17/20 Batch 3/3 Cost: 1.231898\n",
      "Epoch   18/20 Batch 1/3 Cost: 1.692482\n",
      "Epoch   18/20 Batch 2/3 Cost: 0.542031\n",
      "Epoch   18/20 Batch 3/3 Cost: 1.088707\n",
      "Epoch   19/20 Batch 1/3 Cost: 0.759482\n",
      "Epoch   19/20 Batch 2/3 Cost: 1.486527\n",
      "Epoch   19/20 Batch 3/3 Cost: 1.581900\n",
      "Epoch   20/20 Batch 1/3 Cost: 0.184449\n",
      "Epoch   20/20 Batch 2/3 Cost: 3.206239\n",
      "Epoch   20/20 Batch 3/3 Cost: 0.092593\n"
     ]
    }
   ],
   "source": [
    "#iteration은 전체 크기에서 배치사이즈를 나눈 것, 만약 1000data 중 배치크기가 100이면 iteration은 10 = 가중치와 bias를 10번 Update\n",
    "#epoch은 모든 batch가 모든 데이터를 다 보았을 때를 1 epoch이라고 한다.\n",
    "\n",
    "np_epochs = 20\n",
    "\n",
    "for epoch in range(np_epochs+1):\n",
    "    for batch_idx, samples in enumerate(dataloader):\n",
    "       # print(batch_idx)\n",
    "       # print(samples)\n",
    "        x_train, y_train = samples\n",
    "\n",
    "        #H(x) 계산\n",
    "        prediction = model(x_train)\n",
    "\n",
    "        #cost 계산\n",
    "        cost = F.mse_loss(prediction, y_train)\n",
    "\n",
    "        #cost로 H(x) 계산\n",
    "        optimizer.zero_grad()\n",
    "        cost.backward() #cost로 자동 미분을 한다\n",
    "        optimizer.step() #optimizer로 update -> model parameter update.\n",
    "\n",
    "        print(\"Epoch {:4d}/{} Batch {}/{} Cost: {:6f}\".format(epoch,np_epochs,batch_idx+1,len(dataloader),cost.item()))"
   ]
  },
  {
   "cell_type": "code",
   "execution_count": 14,
   "metadata": {},
   "outputs": [
    {
     "name": "stdout",
     "output_type": "stream",
     "text": [
      "훈련 후 입력이 73, 80, 75일 때의 예측값 : tensor([[152.1987]], grad_fn=<AddmmBackward0>)\n"
     ]
    }
   ],
   "source": [
    "# 임의의 입력 [73, 80, 75]를 선언\n",
    "new_var =  torch.FloatTensor([[73, 80, 75]]) \n",
    "# 입력한 값 [73, 80, 75]에 대해서 예측값 y를 리턴받아서 pred_y에 저장\n",
    "pred_y = model(new_var) \n",
    "print(\"훈련 후 입력이 73, 80, 75일 때의 예측값 :\", pred_y) "
   ]
  }
 ],
 "metadata": {
  "kernelspec": {
   "display_name": "Python 3",
   "language": "python",
   "name": "python3"
  },
  "language_info": {
   "codemirror_mode": {
    "name": "ipython",
    "version": 3
   },
   "file_extension": ".py",
   "mimetype": "text/x-python",
   "name": "python",
   "nbconvert_exporter": "python",
   "pygments_lexer": "ipython3",
   "version": "3.12.1"
  }
 },
 "nbformat": 4,
 "nbformat_minor": 2
}
