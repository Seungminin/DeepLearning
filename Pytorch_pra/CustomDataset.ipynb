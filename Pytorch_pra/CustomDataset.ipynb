{
 "cells": [
  {
   "cell_type": "code",
   "execution_count": 3,
   "metadata": {},
   "outputs": [],
   "source": [
    "import torch\n",
    "import torch.nn as nn\n",
    "import torch.nn.functional as F\n",
    "\n",
    "from torch.utils.data import Dataset, DataLoader"
   ]
  },
  {
   "cell_type": "code",
   "execution_count": null,
   "metadata": {},
   "outputs": [],
   "source": [
    "\"\"\"\n",
    "class CustomDataset(torch.utils.data.Dataset): \n",
    "  def __init__(self):\n",
    "  데이터셋의 전처리를 해주는 부분\n",
    "\n",
    "  def __len__(self):\n",
    "  데이터셋의 길이. 즉, 총 샘플의 수를 적어주는 부분\n",
    "\n",
    "  def __getitem__(self, idx): \n",
    "  데이터셋에서 특정 1개의 샘플을 가져오는 함수\n",
    "\n",
    "  len(dataset)을 했을 때 데이터셋의 크기를 리턴할 len\n",
    "  dataset[i]을 했을 때 i번째 샘플을 가져오도록 하는 인덱싱을 위한 get_item\n",
    "\"\"\""
   ]
  },
  {
   "cell_type": "code",
   "execution_count": 4,
   "metadata": {},
   "outputs": [],
   "source": [
    "class CustomDataset(Dataset):\n",
    "    def __init__(self):\n",
    "        self.x_data = [[73, 80, 75],\n",
    "                   [93, 88, 93],\n",
    "                   [89, 91, 90],\n",
    "                   [96, 98, 100],\n",
    "                   [73, 66, 70]]\n",
    "        self.y_data = [[152], [185], [180], [196], [142]]\n",
    "\n",
    "    def __len__(self):\n",
    "        return len(self.x_data)\n",
    "    \n",
    "    def __getitem__(self, index):\n",
    "        x = torch.FloatTensor(self.x_data[index])\n",
    "        y = torch.FloatTensor(self.y_data[index])\n",
    "\n",
    "        return x,y"
   ]
  },
  {
   "cell_type": "code",
   "execution_count": 5,
   "metadata": {},
   "outputs": [],
   "source": [
    "class MultivariateLinearModel(nn.Module):\n",
    "    def __init__(self):\n",
    "        super().__init__()\n",
    "        self.linear = nn.Linear(3,1)\n",
    "    \n",
    "    def forward(self, x):\n",
    "        return self.linear(x)"
   ]
  },
  {
   "cell_type": "code",
   "execution_count": 6,
   "metadata": {},
   "outputs": [],
   "source": [
    "dataset = CustomDataset()\n",
    "dataloader = DataLoader(dataset, batch_size = 2, shuffle = True)\n",
    "\n",
    "model = MultivariateLinearModel()\n",
    "optimizer = torch.optim.SGD(model.parameters(), lr = 1e-5)"
   ]
  },
  {
   "cell_type": "code",
   "execution_count": 14,
   "metadata": {},
   "outputs": [
    {
     "name": "stdout",
     "output_type": "stream",
     "text": [
      "5\n",
      "Index : 1 / Value : (tensor([73., 80., 75.]), tensor([152.]))\n",
      "Index : 2 / Value : (tensor([93., 88., 93.]), tensor([185.]))\n",
      "Index : 3 / Value : (tensor([89., 91., 90.]), tensor([180.]))\n",
      "Index : 4 / Value : (tensor([ 96.,  98., 100.]), tensor([196.]))\n",
      "Index : 5 / Value : (tensor([73., 66., 70.]), tensor([142.]))\n"
     ]
    }
   ],
   "source": [
    "print(len(dataset))\n",
    "\n",
    "for idx, sample in enumerate(dataset):\n",
    "    print(\"Index : {} / Value : {}\".format(idx+1, sample))"
   ]
  },
  {
   "cell_type": "code",
   "execution_count": 7,
   "metadata": {},
   "outputs": [
    {
     "name": "stdout",
     "output_type": "stream",
     "text": [
      "Epoch    0/20 Batch 1/3 Cost: 7382.380859\n",
      "Epoch    0/20 Batch 2/3 Cost: 1254.929199\n",
      "Epoch    0/20 Batch 3/3 Cost: 928.933411\n",
      "Epoch    1/20 Batch 1/3 Cost: 156.166092\n",
      "Epoch    1/20 Batch 2/3 Cost: 49.376385\n",
      "Epoch    1/20 Batch 3/3 Cost: 12.302929\n",
      "Epoch    2/20 Batch 1/3 Cost: 14.712774\n",
      "Epoch    2/20 Batch 2/3 Cost: 0.061966\n",
      "Epoch    2/20 Batch 3/3 Cost: 0.000656\n",
      "Epoch    3/20 Batch 1/3 Cost: 3.589131\n",
      "Epoch    3/20 Batch 2/3 Cost: 1.654362\n",
      "Epoch    3/20 Batch 3/3 Cost: 0.395945\n",
      "Epoch    4/20 Batch 1/3 Cost: 1.576983\n",
      "Epoch    4/20 Batch 2/3 Cost: 0.794320\n",
      "Epoch    4/20 Batch 3/3 Cost: 5.648963\n",
      "Epoch    5/20 Batch 1/3 Cost: 1.691752\n",
      "Epoch    5/20 Batch 2/3 Cost: 2.077463\n",
      "Epoch    5/20 Batch 3/3 Cost: 1.590086\n",
      "Epoch    6/20 Batch 1/3 Cost: 3.617038\n",
      "Epoch    6/20 Batch 2/3 Cost: 2.245787\n",
      "Epoch    6/20 Batch 3/3 Cost: 0.544609\n",
      "Epoch    7/20 Batch 1/3 Cost: 0.111098\n",
      "Epoch    7/20 Batch 2/3 Cost: 2.086187\n",
      "Epoch    7/20 Batch 3/3 Cost: 4.892294\n",
      "Epoch    8/20 Batch 1/3 Cost: 1.722644\n",
      "Epoch    8/20 Batch 2/3 Cost: 1.547801\n",
      "Epoch    8/20 Batch 3/3 Cost: 3.956540\n",
      "Epoch    9/20 Batch 1/3 Cost: 2.099301\n",
      "Epoch    9/20 Batch 2/3 Cost: 1.971813\n",
      "Epoch    9/20 Batch 3/3 Cost: 1.871998\n",
      "Epoch   10/20 Batch 1/3 Cost: 1.292626\n",
      "Epoch   10/20 Batch 2/3 Cost: 1.224455\n",
      "Epoch   10/20 Batch 3/3 Cost: 5.591230\n",
      "Epoch   11/20 Batch 1/3 Cost: 1.813476\n",
      "Epoch   11/20 Batch 2/3 Cost: 2.561994\n",
      "Epoch   11/20 Batch 3/3 Cost: 1.702010\n",
      "Epoch   12/20 Batch 1/3 Cost: 1.960604\n",
      "Epoch   12/20 Batch 2/3 Cost: 1.981068\n",
      "Epoch   12/20 Batch 3/3 Cost: 1.790482\n",
      "Epoch   13/20 Batch 1/3 Cost: 2.724527\n",
      "Epoch   13/20 Batch 2/3 Cost: 1.151357\n",
      "Epoch   13/20 Batch 3/3 Cost: 1.087338\n",
      "Epoch   14/20 Batch 1/3 Cost: 1.484853\n",
      "Epoch   14/20 Batch 2/3 Cost: 2.635512\n",
      "Epoch   14/20 Batch 3/3 Cost: 0.889610\n",
      "Epoch   15/20 Batch 1/3 Cost: 0.182507\n",
      "Epoch   15/20 Batch 2/3 Cost: 1.971308\n",
      "Epoch   15/20 Batch 3/3 Cost: 4.744853\n",
      "Epoch   16/20 Batch 1/3 Cost: 1.465834\n",
      "Epoch   16/20 Batch 2/3 Cost: 4.457725\n",
      "Epoch   16/20 Batch 3/3 Cost: 0.449082\n",
      "Epoch   17/20 Batch 1/3 Cost: 1.492711\n",
      "Epoch   17/20 Batch 2/3 Cost: 2.635621\n",
      "Epoch   17/20 Batch 3/3 Cost: 0.535012\n",
      "Epoch   18/20 Batch 1/3 Cost: 3.617682\n",
      "Epoch   18/20 Batch 2/3 Cost: 1.678809\n",
      "Epoch   18/20 Batch 3/3 Cost: 1.218084\n",
      "Epoch   19/20 Batch 1/3 Cost: 1.934534\n",
      "Epoch   19/20 Batch 2/3 Cost: 0.559895\n",
      "Epoch   19/20 Batch 3/3 Cost: 5.804588\n",
      "Epoch   20/20 Batch 1/3 Cost: 2.214962\n",
      "Epoch   20/20 Batch 2/3 Cost: 1.642684\n",
      "Epoch   20/20 Batch 3/3 Cost: 0.726693\n"
     ]
    }
   ],
   "source": [
    "nb_epochs = 20\n",
    "for epoch in range(nb_epochs + 1):\n",
    "  for batch_idx, samples in enumerate(dataloader):\n",
    "    # print(batch_idx)\n",
    "    # print(samples)\n",
    "    x_train, y_train = samples\n",
    "    # H(x) 계산\n",
    "    prediction = model(x_train)\n",
    "\n",
    "    # cost 계산\n",
    "    cost = F.mse_loss(prediction, y_train)\n",
    "\n",
    "    # cost로 H(x) 계산\n",
    "    optimizer.zero_grad()\n",
    "    cost.backward()\n",
    "    optimizer.step()\n",
    "\n",
    "    print('Epoch {:4d}/{} Batch {}/{} Cost: {:.6f}'.format(\n",
    "        epoch, nb_epochs, batch_idx+1, len(dataloader),\n",
    "        cost.item()\n",
    "        ))"
   ]
  },
  {
   "cell_type": "code",
   "execution_count": 8,
   "metadata": {},
   "outputs": [
    {
     "name": "stdout",
     "output_type": "stream",
     "text": [
      "훈련 후 입력이 73, 80, 75일 때의 예측값 : tensor([[152.5566]], grad_fn=<AddmmBackward0>)\n"
     ]
    }
   ],
   "source": [
    "# 임의의 입력 [73, 80, 75]를 선언\n",
    "new_var =  torch.FloatTensor([[73, 80, 75]]) \n",
    "# 입력한 값 [73, 80, 75]에 대해서 예측값 y를 리턴받아서 pred_y에 저장\n",
    "pred_y = model(new_var) \n",
    "print(\"훈련 후 입력이 73, 80, 75일 때의 예측값 :\", pred_y) "
   ]
  }
 ],
 "metadata": {
  "kernelspec": {
   "display_name": "Python 3",
   "language": "python",
   "name": "python3"
  },
  "language_info": {
   "codemirror_mode": {
    "name": "ipython",
    "version": 3
   },
   "file_extension": ".py",
   "mimetype": "text/x-python",
   "name": "python",
   "nbconvert_exporter": "python",
   "pygments_lexer": "ipython3",
   "version": "3.12.1"
  }
 },
 "nbformat": 4,
 "nbformat_minor": 2
}
