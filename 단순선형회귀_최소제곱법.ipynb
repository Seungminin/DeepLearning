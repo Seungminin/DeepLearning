{
 "cells": [
  {
   "cell_type": "markdown",
   "id": "7a7256ca",
   "metadata": {},
   "source": [
    "#선형회귀 a,b 최소 제곱법 구하는 방법"
   ]
  },
  {
   "cell_type": "code",
   "execution_count": 1,
   "id": "c1a9c9fa",
   "metadata": {},
   "outputs": [],
   "source": [
    "#단순 선형회귀 공식 -> 직선을 구하는 공식\n",
    "import numpy as np\n",
    "\n",
    "x = [2,4,6,8]\n",
    "y=[81,93,91,97]\n",
    "\n",
    "mx = np.mean(x) #x의 평균값\n",
    "my = np.mean(y) #y의 평균값\n",
    "\n",
    "divisor = sum([(i-mx)**2 for i in x])  #분모에 해당하는 부분 x의 값들을 평균값과 뺀 제곱의 합이다.\n",
    "\n",
    "def top(x,mx,y, my):  #분자부분 행당\n",
    "    d = 0\n",
    "    for i in range(len(x)):\n",
    "        d += (x[i]-mx)*(y[i]-mx)\n",
    "    return d\n",
    "dividend = top(x,mx,y,my)\n",
    "\n",
    "a = dividend / divisor\n",
    "b = my-(mx*a)\n",
    "\n",
    "print(\"a : \",a,\"b : \",b)"
   ]
  },
  {
   "cell_type": "code",
   "execution_count": null,
   "id": "9859d865",
   "metadata": {},
   "outputs": [],
   "source": []
  }
 ],
 "metadata": {
  "kernelspec": {
   "display_name": "Python 3 (ipykernel)",
   "language": "python",
   "name": "python3"
  },
  "language_info": {
   "codemirror_mode": {
    "name": "ipython",
    "version": 3
   },
   "file_extension": ".py",
   "mimetype": "text/x-python",
   "name": "python",
   "nbconvert_exporter": "python",
   "pygments_lexer": "ipython3",
   "version": "3.11.5"
  }
 },
 "nbformat": 4,
 "nbformat_minor": 5
}
