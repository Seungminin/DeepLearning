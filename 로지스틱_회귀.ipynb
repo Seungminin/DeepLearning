{
 "cells": [
  {
   "cell_type": "markdown",
   "id": "2e10eeef",
   "metadata": {},
   "source": [
    "#로지스틱 회귀 "
   ]
  },
  {
   "cell_type": "code",
   "execution_count": 10,
   "id": "8c37960c",
   "metadata": {},
   "outputs": [
    {
     "name": "stdout",
     "output_type": "stream",
     "text": [
      "epoches = 0, 기울기 = -0.0500, 절편 = -0.0250\n",
      "epoches = 0, 기울기 = -0.1388, 절편 = -0.0472\n",
      "epoches = 0, 기울기 = -0.2268, 절편 = -0.0619\n",
      "epoches = 0, 기울기 = 0.1201, 절편 = -0.0185\n",
      "epoches = 0, 기울기 = 0.2374, 절편 = -0.0068\n",
      "epoches = 0, 기울기 = 0.2705, 절편 = -0.0040\n",
      "epoches = 0, 기울기 = 0.2860, 절편 = -0.0029\n",
      "epoches = 1000, 기울기 = 1.4978, 절편 = -9.9401\n",
      "epoches = 1000, 기울기 = 1.4940, 절편 = -9.9411\n",
      "epoches = 1000, 기울기 = 1.4120, 절편 = -9.9547\n",
      "epoches = 1000, 기울기 = 1.4949, 절편 = -9.9444\n",
      "epoches = 1000, 기울기 = 1.4982, 절편 = -9.9440\n",
      "epoches = 1000, 기울기 = 1.4984, 절편 = -9.9440\n",
      "epoches = 1000, 기울기 = 1.4985, 절편 = -9.9440\n",
      "epoches = 2000, 기울기 = 1.9065, 절편 = -12.9489\n",
      "epoches = 2000, 기울기 = 1.9055, 절편 = -12.9491\n",
      "epoches = 2000, 기울기 = 1.8515, 절편 = -12.9581\n",
      "epoches = 2000, 기울기 = 1.9057, 절편 = -12.9514\n",
      "epoches = 2000, 기울기 = 1.9068, 절편 = -12.9513\n",
      "epoches = 2000, 기울기 = 1.9068, 절편 = -12.9513\n",
      "epoches = 2000, 기울기 = 1.9068, 절편 = -12.9513\n"
     ]
    },
    {
     "data": {
      "text/plain": [
       "<function matplotlib.pyplot.show(close=None, block=None)>"
      ]
     },
     "execution_count": 10,
     "metadata": {},
     "output_type": "execute_result"
    },
    {
     "data": {
      "image/png": "[encoded data removed]",
      "text/plain": [
       "<Figure size 640x480 with 1 Axes>"
      ]
     },
     "metadata": {},
     "output_type": "display_data"
    }
   ],
   "source": [
    "import numpy as np\n",
    "import pandas as pd\n",
    "import matplotlib.pyplot as plt\n",
    "\n",
    "data = [[2,0],[4,0],[6,0],[8,1],[10,1],[12,1],[14,1]]\n",
    "\n",
    "x_data = [i[0] for i in data]\n",
    "y_data = [i[1] for i in data]\n",
    "\n",
    "#그래프로 나타내기\n",
    "plt.scatter(x_data,y_data)\n",
    "plt.xlim(0,15) #0 ~ 15까지\n",
    "plt.ylim(-0.1,1.5) #-0.1 ~ 1.5까지\n",
    "\n",
    "#시그모이드 함수의 a와 b의 값을 초기화\n",
    "a = 0\n",
    "b = 0\n",
    "\n",
    "#학습률\n",
    "lr = 0.05\n",
    "\n",
    "#시그모이드 함수 정의, -> 예측값 (ax+b) \n",
    "def sigmoid(x):\n",
    "    return 1/(1+np.e**(-x))\n",
    "\n",
    "#경사 하강법 시행\n",
    "for i in range(2001):\n",
    "    for x_data, y_data in data:\n",
    "        a_diff = x_data*(sigmoid(a*x_data+b)-y_data) #a를 편미분한값\n",
    "        b_diff = sigmoid(a*x_data + b)-y_data #b를 편미분한값\n",
    "        a = a - lr * a_diff\n",
    "        b = b - lr * b_diff\n",
    "        \n",
    "        if i % 1000 ==0:\n",
    "            print(\"epoches = %.f, 기울기 = %.04f, 절편 = %.04f\" %(i,a,b))\n",
    "\n",
    "#앞서 구한 기울기와 절편을 이용해 그래프 그리기\n",
    "plt.scatter(x_data,y_data)\n",
    "plt.xlim(0,15)\n",
    "plt.ylim(-0.1,1.5)\n",
    "x_range = (np.arange(0,15,0.1)) #그래프로 나타낼 x값의 범위 정하기\n",
    "plt.plot(np.arange(0,15,0.1),np.array([sigmoid(a*x+b) for x in x_range]))\n",
    "plt.show"
   ]
  },
  {
   "cell_type": "code",
   "execution_count": null,
   "id": "424ffad1",
   "metadata": {},
   "outputs": [],
   "source": []
  }
 ],
 "metadata": {
  "kernelspec": {
   "display_name": "Python 3 (ipykernel)",
   "language": "python",
   "name": "python3"
  },
  "language_info": {
   "codemirror_mode": {
    "name": "ipython",
    "version": 3
   },
   "file_extension": ".py",
   "mimetype": "text/x-python",
   "name": "python",
   "nbconvert_exporter": "python",
   "pygments_lexer": "ipython3",
   "version": "3.11.5"
  }
 },
 "nbformat": 4,
 "nbformat_minor": 5
}
